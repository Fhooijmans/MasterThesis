{
  "nbformat": 4,
  "nbformat_minor": 0,
  "metadata": {
    "colab": {
      "name": "Combined.ipynb",
      "provenance": [],
      "collapsed_sections": [],
      "toc_visible": true
    },
    "kernelspec": {
      "name": "python3",
      "display_name": "Python 3"
    },
    "language_info": {
      "name": "python"
    },
    "accelerator": "GPU"
  },
  "cells": [
    {
      "cell_type": "code",
      "metadata": {
        "id": "g9xCCAgZ3DbH"
      },
      "source": [
        "from numpy.random import seed\n",
        "import tensorflow as tf\n",
        "seed(1)\n",
        "tf.random.set_seed(2)"
      ],
      "execution_count": 75,
      "outputs": []
    },
    {
      "cell_type": "markdown",
      "metadata": {
        "id": "nlmnaA2jXECV"
      },
      "source": [
        "### Naive Bayes"
      ]
    },
    {
      "cell_type": "code",
      "metadata": {
        "id": "7x9Qj8bzwWwT"
      },
      "source": [
        "import pandas as pd\n",
        "import numpy as np\n",
        "from sklearn.utils import resample\n",
        "from sklearn.feature_extraction.text import CountVectorizer\n",
        "from sklearn.feature_extraction.text import TfidfVectorizer\n",
        "from sklearn.model_selection import train_test_split\n",
        "\n",
        "#import dataset\n",
        "df_preprocess = pd.read_csv('/content/drive/MyDrive/Master/length_trim_sequences.csv', converters={'sequence_events': eval})\n",
        "# convert target labels to [0,1]\n",
        "df_preprocess['target_label'] = np.array(df_preprocess['target_label'].replace(to_replace={\"A\" : 0, \"P\" : 1}))"
      ],
      "execution_count": 76,
      "outputs": []
    },
    {
      "cell_type": "code",
      "metadata": {
        "id": "DVyfufil6rPH"
      },
      "source": [
        "def vectorize(data, voc):\n",
        "  sequences = data.iloc[:, 1]\n",
        "  # create corpus of all sequences in dataset\n",
        "  corpus = []\n",
        "  for seq in sequences:\n",
        "    seqstr = ''.join([str(item) for item in seq])\n",
        "    corpus.append(seqstr)\n",
        "  \n",
        "  # Tf-idf will be used to get a normalized frequency count of all 5-grams in the corpus. More interesting 5-grams are basically given a higher weight\n",
        "  vectorizer = TfidfVectorizer(ngram_range=(5,5), analyzer='char', vocabulary=voc)\n",
        "  #tokenizing sequences, i.e. give id to each possible n-gram\n",
        "  X = vectorizer.fit_transform(corpus)\n",
        "  # target labels for sequences\n",
        "  Y = data.iloc[:, 2]\n",
        "  return X, Y, vectorizer"
      ],
      "execution_count": 77,
      "outputs": []
    },
    {
      "cell_type": "code",
      "metadata": {
        "id": "CnSa4KionOEx"
      },
      "source": [
        "X, Y, vectorize_all = vectorize(df_preprocess, None)\n",
        "#all possible 5-grams present in sequences dataset, also counts 5-gram occurences in corpus\n",
        "vocab = vectorize_all.get_feature_names()"
      ],
      "execution_count": 78,
      "outputs": []
    },
    {
      "cell_type": "code",
      "metadata": {
        "id": "hbir-BikD7bB"
      },
      "source": [
        "#split dataset into 0.9 train and 0.1 test\n",
        "train, validation = train_test_split(df_preprocess, test_size=0.1, random_state=42, stratify=df_preprocess['target_label'])"
      ],
      "execution_count": 79,
      "outputs": []
    },
    {
      "cell_type": "code",
      "metadata": {
        "colab": {
          "base_uri": "https://localhost:8080/"
        },
        "id": "uFUGlQ349lRz",
        "outputId": "f9fc3bf1-ed08-4f96-9260-90b9f178d7dd"
      },
      "source": [
        "#vectorization of sequences\n",
        "#use vocab of whole corpus to vectorize the train set\n",
        "X_train_NB, Y_train_NB, vectorizer_train = vectorize(train, vocab)\n",
        "\n",
        "# use same vocab to vectorize val_set\n",
        "X_val_NB, Y_val_NB, vectorizer_val = vectorize(validation, vocab)\n",
        "\n",
        "#array with the count of each 5-gram occurence per sequence in corpus, each vector/row represents 1 sequence in corpus, each column a unique 5-gram/feature\n",
        "print(X_train_NB.toarray())"
      ],
      "execution_count": 80,
      "outputs": [
        {
          "output_type": "stream",
          "text": [
            "[[0.         0.         0.         ... 0.         0.         0.        ]\n",
            " [0.         0.         0.         ... 0.         0.         0.        ]\n",
            " [0.         0.         0.         ... 0.         0.         0.        ]\n",
            " ...\n",
            " [0.         0.         0.         ... 0.         0.         0.        ]\n",
            " [0.         0.         0.         ... 0.         0.         0.        ]\n",
            " [0.67771133 0.16760809 0.         ... 0.         0.         0.        ]]\n"
          ],
          "name": "stdout"
        }
      ]
    },
    {
      "cell_type": "code",
      "metadata": {
        "colab": {
          "base_uri": "https://localhost:8080/"
        },
        "id": "WgeKkTfpDJIo",
        "outputId": "96b63893-0226-4eee-dbe4-2185f0513b24"
      },
      "source": [
        "print(X_train_NB.shape)\n",
        "print(Y_train_NB.shape)\n",
        "print(X_val_NB.shape)\n",
        "print(Y_val_NB.shape)"
      ],
      "execution_count": 81,
      "outputs": [
        {
          "output_type": "stream",
          "text": [
            "(33344, 1074)\n",
            "(33344,)\n",
            "(3705, 1074)\n",
            "(3705,)\n"
          ],
          "name": "stdout"
        }
      ]
    },
    {
      "cell_type": "code",
      "metadata": {
        "id": "pDdbyChnkzR9"
      },
      "source": [
        "# NB model implementation\n",
        "from sklearn.naive_bayes import MultinomialNB\n",
        "\n",
        "model = MultinomialNB()\n",
        "\n",
        "model.fit(X_train_NB, Y_train_NB)\n",
        "predicted_labels = model.predict(X_val_NB)"
      ],
      "execution_count": 82,
      "outputs": []
    },
    {
      "cell_type": "code",
      "metadata": {
        "colab": {
          "base_uri": "https://localhost:8080/"
        },
        "id": "9TY9G4AfUH6g",
        "outputId": "fa36d62e-4b35-47e1-a792-72e8f478839f"
      },
      "source": [
        "from sklearn.metrics import classification_report\n",
        "\n",
        "print(classification_report(Y_val_NB, predicted_labels, digits=4))"
      ],
      "execution_count": 83,
      "outputs": [
        {
          "output_type": "stream",
          "text": [
            "              precision    recall  f1-score   support\n",
            "\n",
            "           0     0.8405    0.9495    0.8917      3008\n",
            "           1     0.5049    0.2224    0.3088       697\n",
            "\n",
            "    accuracy                         0.8127      3705\n",
            "   macro avg     0.6727    0.5859    0.6002      3705\n",
            "weighted avg     0.7774    0.8127    0.7820      3705\n",
            "\n"
          ],
          "name": "stdout"
        }
      ]
    },
    {
      "cell_type": "code",
      "metadata": {
        "colab": {
          "base_uri": "https://localhost:8080/"
        },
        "id": "dd_4hei1pE_r",
        "outputId": "7c77fc16-8896-4a14-9d0a-d682916b068c"
      },
      "source": [
        "from sklearn.model_selection import cross_val_score\n",
        "\n",
        "model = MultinomialNB()\n",
        "scores = cross_val_score(model, X_train_NB, Y_train_NB, cv = 10, scoring='f1_weighted')\n",
        "print(scores)"
      ],
      "execution_count": 84,
      "outputs": [
        {
          "output_type": "stream",
          "text": [
            "[0.77292554 0.77437095 0.77689504 0.77724276 0.77544499 0.76642407\n",
            " 0.78988126 0.77166047 0.77774841 0.77774535]\n"
          ],
          "name": "stdout"
        }
      ]
    },
    {
      "cell_type": "code",
      "metadata": {
        "colab": {
          "base_uri": "https://localhost:8080/"
        },
        "id": "7QhgCvVEpG20",
        "outputId": "599ac9ed-26dc-49d0-f380-df20f3288049"
      },
      "source": [
        "print('Average cross-validation score: {:.4f}'.format(scores.mean()))"
      ],
      "execution_count": 85,
      "outputs": [
        {
          "output_type": "stream",
          "text": [
            "Average cross-validation score: 0.7760\n"
          ],
          "name": "stdout"
        }
      ]
    },
    {
      "cell_type": "code",
      "metadata": {
        "colab": {
          "base_uri": "https://localhost:8080/"
        },
        "id": "VHqP78FxoOOF",
        "outputId": "31c03a85-209a-4787-a5e9-c925f817c5d4"
      },
      "source": [
        "from sklearn.metrics import confusion_matrix\n",
        "\n",
        "tn, fp, fn, tp = confusion_matrix(Y_val_NB, predicted_labels).ravel()\n",
        "print(tn, fp, fn, tp)\n",
        "confusion_matrix(Y_val_NB, predicted_labels)"
      ],
      "execution_count": 86,
      "outputs": [
        {
          "output_type": "stream",
          "text": [
            "2856 152 542 155\n"
          ],
          "name": "stdout"
        },
        {
          "output_type": "execute_result",
          "data": {
            "text/plain": [
              "array([[2856,  152],\n",
              "       [ 542,  155]])"
            ]
          },
          "metadata": {
            "tags": []
          },
          "execution_count": 86
        }
      ]
    },
    {
      "cell_type": "code",
      "metadata": {
        "colab": {
          "base_uri": "https://localhost:8080/"
        },
        "id": "c2rivj5PoRPM",
        "outputId": "ce0fa7b1-a865-4c22-9b14-440d577e220a"
      },
      "source": [
        "  # AUC NB_imbalanced\n",
        "from sklearn.metrics import roc_auc_score\n",
        "\n",
        "auc = roc_auc_score(Y_val_NB, predicted_labels)\n",
        "print(auc)"
      ],
      "execution_count": 87,
      "outputs": [
        {
          "output_type": "stream",
          "text": [
            "0.5859248603437224\n"
          ],
          "name": "stdout"
        }
      ]
    },
    {
      "cell_type": "markdown",
      "metadata": {
        "id": "PA22h8daXAMF"
      },
      "source": [
        "### LSTMs"
      ]
    },
    {
      "cell_type": "code",
      "metadata": {
        "id": "EeSJcGHR3GmR"
      },
      "source": [
        "import pandas as pd\n",
        "import numpy as np\n",
        "import keras\n",
        "from sklearn.utils import resample\n",
        "from keras.preprocessing import sequence\n",
        "from sklearn.preprocessing import OneHotEncoder\n",
        "from sklearn.model_selection import train_test_split\n",
        "\n",
        "#import dataset\n",
        "df_preprocess = pd.read_csv('/content/drive/MyDrive/Master/length_trim_sequences.csv', converters={'sequence_events': eval})\n",
        "\n",
        "def OneHot(data):\n",
        "  X = data.iloc[:, 1]\n",
        "  Y = data.iloc[:, 2]\n",
        "    #create array of arrays of sequence lists as models needs arrays as input data type\n",
        "  X_arr = np.array([np.array(seq) for seq in X])\n",
        "\n",
        "    #transform labels to integers for input model\n",
        "  Y = np.array(Y.replace(to_replace={\"A\" : 0, \"P\" : 1}))\n",
        "\n",
        "    #add Start/End symbols, 7 = Start symbol, 8 = End symbol\n",
        "  X_SE = [np.insert(seq, [0], '7') for seq in X_arr] # add '7' before first browsing event\n",
        "  X_SE = [np.append(seq, '8') for seq in X_SE] # add '8' to end of event sequence\n",
        "\n",
        "    #add padding to sequences, Padding value = 0\n",
        "    #each column represents 1 timestamp in the event sequence, values are transformed to integers instead of strings\n",
        "  X_padding = sequence.pad_sequences(X_SE, maxlen=157, padding= 'post', value=0) # also changes dimension 1D -> 2D (37049, 157)\n",
        "\n",
        "  # binary encode\n",
        "  enc = OneHotEncoder(sparse=False, handle_unknown='ignore') #initialize One-Hot-Encoder\n",
        "  reshape = np.array([seq.reshape(len(X_padding[0]), 1) for seq in X_padding]) #reshape each sequence in set from 1D array to 2D arrays\n",
        "  categories = np.reshape([1,2,3,4,5,7,8], (-1,1)) # all possible categories, also reshaped from 1D to 2D\n",
        "\n",
        "  enc.fit(categories) # fit Encoder to determine category for the input feature\n",
        "\n",
        "  X_oneHot = np.array([enc.transform(seq) for seq in reshape]) # transforms input data to 3D tensor (37049, 157, 7)\n",
        "  ## 7 features, including BOS, EOS, so (37049, 157, 7), padding rows will be just a row of zeros\n",
        "  return X_oneHot, Y\n"
      ],
      "execution_count": 88,
      "outputs": []
    },
    {
      "cell_type": "code",
      "metadata": {
        "colab": {
          "base_uri": "https://localhost:8080/"
        },
        "id": "fmTuiUcH3Yho",
        "outputId": "7bc7ce25-b34e-437a-b3e4-80d6ec8a4a69"
      },
      "source": [
        "X, Y = OneHot(df_preprocess)"
      ],
      "execution_count": 89,
      "outputs": [
        {
          "output_type": "stream",
          "text": [
            "/usr/local/lib/python3.7/dist-packages/ipykernel_launcher.py:16: VisibleDeprecationWarning: Creating an ndarray from ragged nested sequences (which is a list-or-tuple of lists-or-tuples-or ndarrays with different lengths or shapes) is deprecated. If you meant to do this, you must specify 'dtype=object' when creating the ndarray\n",
            "  app.launch_new_instance()\n"
          ],
          "name": "stderr"
        }
      ]
    },
    {
      "cell_type": "code",
      "metadata": {
        "id": "b1UxQlJw3UGU"
      },
      "source": [
        "#split dataset into 0.8 train, 0.1 validation and 0.1 test\n",
        "X_train, X_val, Y_train, Y_val = train_test_split(X, Y, test_size=0.2, random_state=42, stratify=Y)\n",
        "X_val, X_test, Y_val, Y_test = train_test_split(X_val, Y_val, test_size=0.5, random_state=42, stratify=Y_val)"
      ],
      "execution_count": 90,
      "outputs": []
    },
    {
      "cell_type": "code",
      "metadata": {
        "colab": {
          "base_uri": "https://localhost:8080/"
        },
        "id": "D4UqE5-M4HgL",
        "outputId": "3d90bdb5-233c-402c-8c77-ffcc066d1e86"
      },
      "source": [
        "print(X_train.shape)\n",
        "print(Y_train.shape)\n",
        "print(X_val.shape)\n",
        "print(Y_val.shape)\n",
        "print(X_test.shape)\n",
        "print(Y_test.shape)"
      ],
      "execution_count": 91,
      "outputs": [
        {
          "output_type": "stream",
          "text": [
            "(29639, 157, 7)\n",
            "(29639,)\n",
            "(3705, 157, 7)\n",
            "(3705,)\n",
            "(3705, 157, 7)\n",
            "(3705,)\n"
          ],
          "name": "stdout"
        }
      ]
    },
    {
      "cell_type": "code",
      "metadata": {
        "id": "68EF-c4pVpjc"
      },
      "source": [
        "# gridsearch\n",
        "import numpy\n",
        "from sklearn.model_selection import GridSearchCV\n",
        "from keras.wrappers.scikit_learn import KerasClassifier\n",
        "\n",
        "import tensorflow as tf\n",
        "from numpy.random import seed\n",
        "seed(1)\n",
        "tf.random.set_seed(2)\n",
        "\n",
        "import keras\n",
        "from keras.layers import Dense, LSTM, Masking, Input, BatchNormalization\n",
        "from keras import Model\n",
        "from tensorflow.keras.callbacks import EarlyStopping\n",
        "\n",
        "def create_model(neurons = 16):\n",
        "  inputs = Input(shape=(157, 7), name='main_input')\n",
        "  mask = Masking(mask_value = [0.,0.,0.,0.,0.,0.,0.], name='mask')(inputs)\n",
        "  #LSTM Layer\n",
        "  lstm3 = LSTM(neurons)(mask)\n",
        "  batchnorm = BatchNormalization()(lstm3)\n",
        "\n",
        "  #output layer\n",
        "  dense_layer = Dense(1, activation='sigmoid', name='dense_layer')(batchnorm)\n",
        "\n",
        "  #Adam optimizer\n",
        "  optimizer = keras.optimizers.Adam(learning_rate=0.001)\n",
        "  model3 = Model(inputs=[inputs], outputs=[dense_layer])\n",
        "  model3.compile(loss='binary_crossentropy', optimizer=optimizer, metrics=['accuracy'])\n",
        "\n",
        "  #early stopping\n",
        "  es = EarlyStopping(monitor = 'val_loss', patience=10)\n",
        "  return model3\n",
        "\n",
        "model3 = KerasClassifier(build_fn=create_model, verbose=1)\n",
        "\n",
        "neurons = [16, 32, 64]\n",
        "batch_size = [16, 32, 64]\n",
        "epochs = [50]\n",
        "param_grid = dict(batch_size=batch_size, epochs=epochs, neurons=neurons)\n",
        "grid = GridSearchCV(estimator=model3, param_grid=param_grid, cv=3, verbose=3)\n",
        "grid_result = grid.fit(X_train, Y_train)\n",
        "\n",
        "#summarize results\n",
        "print(\"Best: %f using %s\" % (grid_result.best_score_, grid_result.best_params_))\n",
        "means = grid_result.cv_results_['mean_test_score']\n",
        "stds = grid_result.cv_results_['std_test_score']\n",
        "params = grid_result.cv_results_['params']\n",
        "for mean, stdev, param in zip(means, stds, params):\n",
        "    print(\"%f (%f) with: %r\" % (mean, stdev, param))"
      ],
      "execution_count": null,
      "outputs": []
    },
    {
      "cell_type": "markdown",
      "metadata": {
        "id": "dH20bG4CXcPP"
      },
      "source": [
        "### Last LSTM"
      ]
    },
    {
      "cell_type": "code",
      "metadata": {
        "colab": {
          "base_uri": "https://localhost:8080/"
        },
        "id": "2CwT509j4Jqr",
        "outputId": "8b5b769a-8c9b-4e48-88a8-7101d5d1f852"
      },
      "source": [
        "from numpy.random import seed\n",
        "seed(1)\n",
        "tf.random.set_seed(2)\n",
        "\n",
        "from keras import layers\n",
        "from keras.models import Sequential\n",
        "from keras.layers import Dense, LSTM, Masking, Input, BatchNormalization\n",
        "from keras import Model\n",
        "from tensorflow.keras.callbacks import EarlyStopping\n",
        "\n",
        "inputs = Input(shape=(157, 7), name='main_input')\n",
        "mask = Masking(mask_value = [0.,0.,0.,0.,0.,0.,0.], name='mask')(inputs)\n",
        "#LSTM Layer\n",
        "lstm3 = LSTM(32)(mask)\n",
        "batchnorm = BatchNormalization()(lstm3)\n",
        "\n",
        "#output layer\n",
        "dense_layer = Dense(1, activation='sigmoid', name='dense_layer')(batchnorm)\n",
        "\n",
        "#Adam optimizer\n",
        "optimizer = keras.optimizers.Adam(learning_rate=0.001)\n",
        "model3 = Model(inputs=[inputs], outputs=[dense_layer])\n",
        "model3.compile(loss='binary_crossentropy', optimizer=optimizer, metrics=['accuracy'])\n",
        "\n",
        "#early stopping\n",
        "es = EarlyStopping(monitor = 'val_loss', patience=10)\n",
        "\n",
        "model3.summary()"
      ],
      "execution_count": 101,
      "outputs": [
        {
          "output_type": "stream",
          "text": [
            "Model: \"model_5\"\n",
            "_________________________________________________________________\n",
            "Layer (type)                 Output Shape              Param #   \n",
            "=================================================================\n",
            "main_input (InputLayer)      [(None, 157, 7)]          0         \n",
            "_________________________________________________________________\n",
            "mask (Masking)               (None, 157, 7)            0         \n",
            "_________________________________________________________________\n",
            "lstm_5 (LSTM)                (None, 32)                5120      \n",
            "_________________________________________________________________\n",
            "batch_normalization_5 (Batch (None, 32)                128       \n",
            "_________________________________________________________________\n",
            "dense_layer (Dense)          (None, 1)                 33        \n",
            "=================================================================\n",
            "Total params: 5,281\n",
            "Trainable params: 5,217\n",
            "Non-trainable params: 64\n",
            "_________________________________________________________________\n"
          ],
          "name": "stdout"
        }
      ]
    },
    {
      "cell_type": "code",
      "metadata": {
        "colab": {
          "base_uri": "https://localhost:8080/"
        },
        "id": "JOYLYnyR4YfN",
        "outputId": "0ccb7e8a-f145-4303-b983-c5752724a52d"
      },
      "source": [
        "third_model = model3.fit(X_train, Y_train, epochs=50, batch_size = 16, validation_data=(X_val, Y_val), verbose = 1, callbacks=[es])\n",
        "model3.save('/LastLSTM.h5')"
      ],
      "execution_count": 102,
      "outputs": [
        {
          "output_type": "stream",
          "text": [
            "Epoch 1/50\n",
            "1853/1853 [==============================] - 48s 24ms/step - loss: 0.3752 - accuracy: 0.8139 - val_loss: 0.2822 - val_accuracy: 0.8540\n",
            "Epoch 2/50\n",
            "1853/1853 [==============================] - 42s 23ms/step - loss: 0.2913 - accuracy: 0.8417 - val_loss: 0.3249 - val_accuracy: 0.8213\n",
            "Epoch 3/50\n",
            "1853/1853 [==============================] - 43s 23ms/step - loss: 0.2859 - accuracy: 0.8455 - val_loss: 0.2738 - val_accuracy: 0.8564\n",
            "Epoch 4/50\n",
            "1853/1853 [==============================] - 43s 23ms/step - loss: 0.2728 - accuracy: 0.8528 - val_loss: 0.2776 - val_accuracy: 0.8467\n",
            "Epoch 5/50\n",
            "1853/1853 [==============================] - 43s 23ms/step - loss: 0.2845 - accuracy: 0.8478 - val_loss: 0.2798 - val_accuracy: 0.8534\n",
            "Epoch 6/50\n",
            "1853/1853 [==============================] - 43s 23ms/step - loss: 0.2840 - accuracy: 0.8479 - val_loss: 0.2722 - val_accuracy: 0.8583\n",
            "Epoch 7/50\n",
            "1853/1853 [==============================] - 43s 23ms/step - loss: 0.2741 - accuracy: 0.8542 - val_loss: 0.2699 - val_accuracy: 0.8572\n",
            "Epoch 8/50\n",
            "1853/1853 [==============================] - 43s 23ms/step - loss: 0.2806 - accuracy: 0.8486 - val_loss: 0.2865 - val_accuracy: 0.8432\n",
            "Epoch 9/50\n",
            "1853/1853 [==============================] - 43s 23ms/step - loss: 0.2707 - accuracy: 0.8568 - val_loss: 0.2740 - val_accuracy: 0.8518\n",
            "Epoch 10/50\n",
            "1853/1853 [==============================] - 43s 23ms/step - loss: 0.2722 - accuracy: 0.8568 - val_loss: 0.2681 - val_accuracy: 0.8580\n",
            "Epoch 11/50\n",
            "1853/1853 [==============================] - 42s 23ms/step - loss: 0.2694 - accuracy: 0.8550 - val_loss: 0.2712 - val_accuracy: 0.8570\n",
            "Epoch 12/50\n",
            "1853/1853 [==============================] - 42s 23ms/step - loss: 0.2663 - accuracy: 0.8575 - val_loss: 0.2732 - val_accuracy: 0.8537\n",
            "Epoch 13/50\n",
            "1853/1853 [==============================] - 42s 23ms/step - loss: 0.2702 - accuracy: 0.8560 - val_loss: 0.2697 - val_accuracy: 0.8591\n",
            "Epoch 14/50\n",
            "1853/1853 [==============================] - 43s 23ms/step - loss: 0.2695 - accuracy: 0.8574 - val_loss: 0.2723 - val_accuracy: 0.8572\n",
            "Epoch 15/50\n",
            "1853/1853 [==============================] - 43s 23ms/step - loss: 0.2657 - accuracy: 0.8559 - val_loss: 0.2692 - val_accuracy: 0.8591\n",
            "Epoch 16/50\n",
            "1853/1853 [==============================] - 43s 23ms/step - loss: 0.2685 - accuracy: 0.8519 - val_loss: 0.2780 - val_accuracy: 0.8486\n",
            "Epoch 17/50\n",
            "1853/1853 [==============================] - 43s 23ms/step - loss: 0.2652 - accuracy: 0.8592 - val_loss: 0.2677 - val_accuracy: 0.8575\n",
            "Epoch 18/50\n",
            "1853/1853 [==============================] - 43s 23ms/step - loss: 0.2590 - accuracy: 0.8623 - val_loss: 0.2673 - val_accuracy: 0.8602\n",
            "Epoch 19/50\n",
            "1853/1853 [==============================] - 43s 23ms/step - loss: 0.2630 - accuracy: 0.8615 - val_loss: 0.2706 - val_accuracy: 0.8526\n",
            "Epoch 20/50\n",
            "1853/1853 [==============================] - 42s 23ms/step - loss: 0.2626 - accuracy: 0.8558 - val_loss: 0.2728 - val_accuracy: 0.8556\n",
            "Epoch 21/50\n",
            "1853/1853 [==============================] - 43s 23ms/step - loss: 0.2625 - accuracy: 0.8591 - val_loss: 0.2657 - val_accuracy: 0.8623\n",
            "Epoch 22/50\n",
            "1853/1853 [==============================] - 43s 23ms/step - loss: 0.2584 - accuracy: 0.8603 - val_loss: 0.2663 - val_accuracy: 0.8615\n",
            "Epoch 23/50\n",
            "1853/1853 [==============================] - 43s 23ms/step - loss: 0.2582 - accuracy: 0.8608 - val_loss: 0.2670 - val_accuracy: 0.8610\n",
            "Epoch 24/50\n",
            "1853/1853 [==============================] - 43s 23ms/step - loss: 0.2559 - accuracy: 0.8674 - val_loss: 0.2677 - val_accuracy: 0.8640\n",
            "Epoch 25/50\n",
            "1853/1853 [==============================] - 43s 23ms/step - loss: 0.2557 - accuracy: 0.8614 - val_loss: 0.2675 - val_accuracy: 0.8591\n",
            "Epoch 26/50\n",
            "1853/1853 [==============================] - 43s 23ms/step - loss: 0.2560 - accuracy: 0.8640 - val_loss: 0.2651 - val_accuracy: 0.8570\n",
            "Epoch 27/50\n",
            "1853/1853 [==============================] - 43s 23ms/step - loss: 0.2520 - accuracy: 0.8659 - val_loss: 0.2654 - val_accuracy: 0.8605\n",
            "Epoch 28/50\n",
            "1853/1853 [==============================] - 43s 23ms/step - loss: 0.2452 - accuracy: 0.8726 - val_loss: 0.2692 - val_accuracy: 0.8618\n",
            "Epoch 29/50\n",
            "1853/1853 [==============================] - 43s 23ms/step - loss: 0.2548 - accuracy: 0.8661 - val_loss: 0.2687 - val_accuracy: 0.8615\n",
            "Epoch 30/50\n",
            "1853/1853 [==============================] - 42s 23ms/step - loss: 0.2531 - accuracy: 0.8669 - val_loss: 0.2667 - val_accuracy: 0.8672\n",
            "Epoch 31/50\n",
            "1853/1853 [==============================] - 43s 23ms/step - loss: 0.2558 - accuracy: 0.8653 - val_loss: 0.2727 - val_accuracy: 0.8618\n",
            "Epoch 32/50\n",
            "1853/1853 [==============================] - 43s 23ms/step - loss: 0.2539 - accuracy: 0.8659 - val_loss: 0.2709 - val_accuracy: 0.8551\n",
            "Epoch 33/50\n",
            "1853/1853 [==============================] - 43s 23ms/step - loss: 0.2524 - accuracy: 0.8672 - val_loss: 0.2671 - val_accuracy: 0.8656\n",
            "Epoch 34/50\n",
            "1853/1853 [==============================] - 42s 23ms/step - loss: 0.2486 - accuracy: 0.8695 - val_loss: 0.2682 - val_accuracy: 0.8634\n",
            "Epoch 35/50\n",
            "1853/1853 [==============================] - 42s 23ms/step - loss: 0.2438 - accuracy: 0.8727 - val_loss: 0.2736 - val_accuracy: 0.8551\n",
            "Epoch 36/50\n",
            "1853/1853 [==============================] - 42s 23ms/step - loss: 0.2492 - accuracy: 0.8688 - val_loss: 0.2655 - val_accuracy: 0.8677\n"
          ],
          "name": "stdout"
        }
      ]
    },
    {
      "cell_type": "code",
      "metadata": {
        "colab": {
          "base_uri": "https://localhost:8080/"
        },
        "id": "7zLwFYom4vOm",
        "outputId": "bdff5438-7761-4f9e-b3d9-1c2f7db60e1b"
      },
      "source": [
        "#metrics lastState LSTM\n",
        "\n",
        "pred_last_prob = model3.predict(X_test)\n",
        "pred_last_class = np.round(pred_last_prob)\n",
        "\n",
        "print(np.unique(pred_last_class, return_counts=True))\n",
        "print(np.unique(Y_test, return_counts=True))"
      ],
      "execution_count": 119,
      "outputs": [
        {
          "output_type": "stream",
          "text": [
            "(array([0., 1.], dtype=float32), array([2866,  839]))\n",
            "(array([0, 1]), array([3008,  697]))\n"
          ],
          "name": "stdout"
        }
      ]
    },
    {
      "cell_type": "code",
      "metadata": {
        "colab": {
          "base_uri": "https://localhost:8080/"
        },
        "id": "8AocJ1dy4v32",
        "outputId": "00673eb1-104b-475b-fd89-b8bffc71105f"
      },
      "source": [
        "from sklearn.metrics import classification_report\n",
        "\n",
        "print(classification_report(Y_test, pred_last_class, digits=4))"
      ],
      "execution_count": 120,
      "outputs": [
        {
          "output_type": "stream",
          "text": [
            "              precision    recall  f1-score   support\n",
            "\n",
            "           0     0.9330    0.8890    0.9105      3008\n",
            "           1     0.6019    0.7245    0.6576       697\n",
            "\n",
            "    accuracy                         0.8580      3705\n",
            "   macro avg     0.7675    0.8067    0.7840      3705\n",
            "weighted avg     0.8707    0.8580    0.8629      3705\n",
            "\n"
          ],
          "name": "stdout"
        }
      ]
    },
    {
      "cell_type": "code",
      "metadata": {
        "colab": {
          "base_uri": "https://localhost:8080/"
        },
        "id": "V2ogJOAE6Kg6",
        "outputId": "4dbc5422-28d1-4353-92d6-9399269db029"
      },
      "source": [
        "from sklearn.metrics import confusion_matrix\n",
        "\n",
        "tn, fp, fn, tp = confusion_matrix(Y_test, pred_last_class).ravel()\n",
        "print(tn, fp, fn, tp)\n",
        "confusion_matrix(Y_test, pred_last_class)"
      ],
      "execution_count": 105,
      "outputs": [
        {
          "output_type": "stream",
          "text": [
            "2674 334 192 505\n"
          ],
          "name": "stdout"
        },
        {
          "output_type": "execute_result",
          "data": {
            "text/plain": [
              "array([[2674,  334],\n",
              "       [ 192,  505]])"
            ]
          },
          "metadata": {
            "tags": []
          },
          "execution_count": 105
        }
      ]
    },
    {
      "cell_type": "code",
      "metadata": {
        "colab": {
          "base_uri": "https://localhost:8080/"
        },
        "id": "SKoMu5UVARAn",
        "outputId": "513640e8-d713-4e16-d0d4-b205d0acdab7"
      },
      "source": [
        "  # AUC lastLSTM\n",
        "from sklearn.metrics import roc_auc_score\n",
        "from sklearn.metrics import roc_curve\n",
        "\n",
        "auc_last = roc_auc_score(Y_test, pred_last_prob)\n",
        "print(auc_last)"
      ],
      "execution_count": 106,
      "outputs": [
        {
          "output_type": "stream",
          "text": [
            "0.926269546155255\n"
          ],
          "name": "stdout"
        }
      ]
    },
    {
      "cell_type": "code",
      "metadata": {
        "colab": {
          "base_uri": "https://localhost:8080/",
          "height": 291
        },
        "id": "zRYnMOlXA0GG",
        "outputId": "d5dffcbb-e9a8-43f6-bd5f-68d2e2586fdf"
      },
      "source": [
        "import matplotlib.pyplot as plt\n",
        "loss = plt.style.use('seaborn-whitegrid')\n",
        "loss = plt.plot(third_model.history['loss'], color = \"#31475C\")\n",
        "loss = plt.plot(third_model.history['val_loss'], color = \"#9DABB5\")\n",
        "loss = plt.title('Validation loss LSTM_LastState')\n",
        "loss = plt.ylabel('Loss')\n",
        "loss = plt.xlabel('Epochs')\n",
        "loss = plt.legend(['Train', 'Validation'], loc = 'upper right', fontsize = 12)\n",
        "loss = plt.savefig('LSTM_loss_last.png')\n",
        "loss = plt.show()"
      ],
      "execution_count": 107,
      "outputs": [
        {
          "output_type": "display_data",
          "data": {
            "image/png": "[encoded data removed]",
            "text/plain": [
              "<Figure size 432x288 with 1 Axes>"
            ]
          },
          "metadata": {
            "tags": []
          }
        }
      ]
    },
    {
      "cell_type": "code",
      "metadata": {
        "colab": {
          "base_uri": "https://localhost:8080/"
        },
        "id": "KoFABX29Yf4f",
        "outputId": "09a7a41f-4373-4f42-aea1-508506e693ba"
      },
      "source": [
        "score, acc = model3.evaluate(X_test, Y_test)\n",
        "\n",
        "print('Loss function:', score)\n",
        "print('Test accuracy:', acc)"
      ],
      "execution_count": 108,
      "outputs": [
        {
          "output_type": "stream",
          "text": [
            "116/116 [==============================] - 1s 11ms/step - loss: 0.2536 - accuracy: 0.8580\n",
            "Loss function: 0.2536024749279022\n",
            "Test accuracy: 0.8580296635627747\n"
          ],
          "name": "stdout"
        }
      ]
    },
    {
      "cell_type": "markdown",
      "metadata": {
        "id": "jT_pSJukXTMD"
      },
      "source": [
        "### Average LSTM"
      ]
    },
    {
      "cell_type": "code",
      "metadata": {
        "id": "CeZoSWRmWrsk"
      },
      "source": [
        "# gridsearch\n",
        "import numpy\n",
        "from sklearn.model_selection import GridSearchCV\n",
        "from keras.wrappers.scikit_learn import KerasClassifier\n",
        "\n",
        "import tensorflow as tf\n",
        "from numpy.random import seed\n",
        "seed(1)\n",
        "tf.random.set_seed(2)\n",
        "\n",
        "import keras\n",
        "from keras.layers import Dense, LSTM, Masking, Input, BatchNormalization\n",
        "from keras import Model\n",
        "from tensorflow.keras.callbacks import EarlyStopping\n",
        "\n",
        "def create_model(neurons = 16):\n",
        "  inputs = Input(shape=(157, 7), name='main_input')\n",
        "  mask = Masking(mask_value = [0.,0.,0.,0.,0.,0.,0.], name='mask')(inputs)\n",
        "  #LSTM Layer\n",
        "  lstm4 = LSTM(64, return_sequences=True)(mask)\n",
        "  batchnorm = BatchNormalization()(lstm4)\n",
        "\n",
        "  Gpooling = GlobalAveragePooling1D()(batchnorm)\n",
        "\n",
        "  #output layer\n",
        "  dense_layer = Dense(1, activation='sigmoid', name='dense_layer')(Gpooling)\n",
        "  #Adam optimizer\n",
        "  optimizer = keras.optimizers.Adam(learning_rate=0.001)\n",
        "  model3 = Model(inputs=[inputs], outputs=[dense_layer])\n",
        "  model3.compile(loss='binary_crossentropy', optimizer=optimizer, metrics=['accuracy'])\n",
        "\n",
        "  #early stopping\n",
        "  es = EarlyStopping(monitor = 'val_loss', patience=10)\n",
        "  return model3\n",
        "\n",
        "model3 = KerasClassifier(build_fn=create_model, verbose=1)\n",
        "\n",
        "neurons = [16, 32, 64]\n",
        "batch_size = [16, 32, 64]\n",
        "epochs = [50]\n",
        "param_grid = dict(batch_size=batch_size, epochs=epochs, neurons=neurons)\n",
        "grid = GridSearchCV(estimator=model3, param_grid=param_grid, cv=3, verbose=3)\n",
        "grid_result = grid.fit(X_train, Y_train)\n",
        "\n",
        "#summarize results\n",
        "print(\"Best: %f using %s\" % (grid_result.best_score_, grid_result.best_params_))\n",
        "means = grid_result.cv_results_['mean_test_score']\n",
        "stds = grid_result.cv_results_['std_test_score']\n",
        "params = grid_result.cv_results_['params']\n",
        "for mean, stdev, param in zip(means, stds, params):\n",
        "    print(\"%f (%f) with: %r\" % (mean, stdev, param))"
      ],
      "execution_count": null,
      "outputs": []
    },
    {
      "cell_type": "code",
      "metadata": {
        "colab": {
          "base_uri": "https://localhost:8080/"
        },
        "id": "gsslyA0x4b-M",
        "outputId": "d4c3979f-9a0d-46d8-b9eb-388b67aa1d96"
      },
      "source": [
        "from numpy.random import seed\n",
        "seed(1)\n",
        "tf.random.set_seed(2)\n",
        "\n",
        "from keras import layers\n",
        "from keras.models import Sequential\n",
        "from keras.layers import Dense, LSTM, Masking, Input, BatchNormalization, GlobalAveragePooling1D\n",
        "from keras import Model\n",
        "from tensorflow.keras.callbacks import EarlyStopping\n",
        "\n",
        "inputs = Input(shape=(157, 7), name='main_input')\n",
        "mask = Masking(mask_value = [0.,0.,0.,0.,0.,0.,0.], name='mask')(inputs)\n",
        "#LSTM Layer\n",
        "lstm4 = LSTM(64, return_sequences=True)(mask)\n",
        "batchnorm = BatchNormalization()(lstm4)\n",
        "\n",
        "Gpooling = GlobalAveragePooling1D()(batchnorm)\n",
        "\n",
        "#output layer\n",
        "dense_layer = Dense(1, activation='sigmoid', name='dense_layer')(Gpooling)\n",
        "\n",
        "#Adam optimizer\n",
        "optimizer = keras.optimizers.Adam(learning_rate=0.001)\n",
        "model4 = Model(inputs=[inputs], outputs=[dense_layer])\n",
        "model4.compile(loss='binary_crossentropy', optimizer=optimizer, metrics=['accuracy'])\n",
        "\n",
        "#early stopping\n",
        "es = EarlyStopping(monitor = 'val_loss', patience=10)\n",
        "\n",
        "model4.summary()"
      ],
      "execution_count": 109,
      "outputs": [
        {
          "output_type": "stream",
          "text": [
            "Model: \"model_6\"\n",
            "_________________________________________________________________\n",
            "Layer (type)                 Output Shape              Param #   \n",
            "=================================================================\n",
            "main_input (InputLayer)      [(None, 157, 7)]          0         \n",
            "_________________________________________________________________\n",
            "mask (Masking)               (None, 157, 7)            0         \n",
            "_________________________________________________________________\n",
            "lstm_6 (LSTM)                (None, 157, 64)           18432     \n",
            "_________________________________________________________________\n",
            "batch_normalization_6 (Batch (None, 157, 64)           256       \n",
            "_________________________________________________________________\n",
            "global_average_pooling1d (Gl (None, 64)                0         \n",
            "_________________________________________________________________\n",
            "dense_layer (Dense)          (None, 1)                 65        \n",
            "=================================================================\n",
            "Total params: 18,753\n",
            "Trainable params: 18,625\n",
            "Non-trainable params: 128\n",
            "_________________________________________________________________\n"
          ],
          "name": "stdout"
        }
      ]
    },
    {
      "cell_type": "code",
      "metadata": {
        "colab": {
          "base_uri": "https://localhost:8080/"
        },
        "id": "kTRh23Dn4dnc",
        "outputId": "265c6a17-a662-41e5-8619-2b557ba608c5"
      },
      "source": [
        "fourth_model = model4.fit(X_train, Y_train, epochs=50, batch_size = 16, validation_data=(X_val, Y_val), verbose = 1, callbacks=[es])\n",
        "model4.save('/avgLSTM_.h5')"
      ],
      "execution_count": 110,
      "outputs": [
        {
          "output_type": "stream",
          "text": [
            "Epoch 1/50\n",
            "1853/1853 [==============================] - 55s 27ms/step - loss: 0.4198 - accuracy: 0.8114 - val_loss: 0.3540 - val_accuracy: 0.8283\n",
            "Epoch 2/50\n",
            "1853/1853 [==============================] - 50s 27ms/step - loss: 0.3159 - accuracy: 0.8391 - val_loss: 0.3666 - val_accuracy: 0.8232\n",
            "Epoch 3/50\n",
            "1853/1853 [==============================] - 49s 27ms/step - loss: 0.2963 - accuracy: 0.8462 - val_loss: 0.2901 - val_accuracy: 0.8491\n",
            "Epoch 4/50\n",
            "1853/1853 [==============================] - 49s 27ms/step - loss: 0.2786 - accuracy: 0.8538 - val_loss: 0.2881 - val_accuracy: 0.8505\n",
            "Epoch 5/50\n",
            "1853/1853 [==============================] - 49s 27ms/step - loss: 0.2825 - accuracy: 0.8498 - val_loss: 0.3072 - val_accuracy: 0.8356\n",
            "Epoch 6/50\n",
            "1853/1853 [==============================] - 49s 27ms/step - loss: 0.2797 - accuracy: 0.8519 - val_loss: 0.2765 - val_accuracy: 0.8507\n",
            "Epoch 7/50\n",
            "1853/1853 [==============================] - 50s 27ms/step - loss: 0.2714 - accuracy: 0.8596 - val_loss: 0.2741 - val_accuracy: 0.8575\n",
            "Epoch 8/50\n",
            "1853/1853 [==============================] - 49s 27ms/step - loss: 0.2761 - accuracy: 0.8542 - val_loss: 0.2757 - val_accuracy: 0.8553\n",
            "Epoch 9/50\n",
            "1853/1853 [==============================] - 50s 27ms/step - loss: 0.2653 - accuracy: 0.8600 - val_loss: 0.2857 - val_accuracy: 0.8494\n",
            "Epoch 10/50\n",
            "1853/1853 [==============================] - 49s 27ms/step - loss: 0.2650 - accuracy: 0.8609 - val_loss: 0.2819 - val_accuracy: 0.8456\n",
            "Epoch 11/50\n",
            "1853/1853 [==============================] - 50s 27ms/step - loss: 0.2618 - accuracy: 0.8645 - val_loss: 0.2739 - val_accuracy: 0.8548\n",
            "Epoch 12/50\n",
            "1853/1853 [==============================] - 49s 27ms/step - loss: 0.2593 - accuracy: 0.8614 - val_loss: 0.2775 - val_accuracy: 0.8578\n",
            "Epoch 13/50\n",
            "1853/1853 [==============================] - 49s 26ms/step - loss: 0.2597 - accuracy: 0.8642 - val_loss: 0.2754 - val_accuracy: 0.8559\n",
            "Epoch 14/50\n",
            "1853/1853 [==============================] - 49s 26ms/step - loss: 0.2569 - accuracy: 0.8637 - val_loss: 0.2792 - val_accuracy: 0.8516\n",
            "Epoch 15/50\n",
            "1853/1853 [==============================] - 49s 26ms/step - loss: 0.2566 - accuracy: 0.8657 - val_loss: 0.2690 - val_accuracy: 0.8567\n",
            "Epoch 16/50\n",
            "1853/1853 [==============================] - 49s 26ms/step - loss: 0.2578 - accuracy: 0.8648 - val_loss: 0.2838 - val_accuracy: 0.8513\n",
            "Epoch 17/50\n",
            "1853/1853 [==============================] - 49s 26ms/step - loss: 0.2533 - accuracy: 0.8646 - val_loss: 0.2734 - val_accuracy: 0.8526\n",
            "Epoch 18/50\n",
            "1853/1853 [==============================] - 49s 27ms/step - loss: 0.2473 - accuracy: 0.8695 - val_loss: 0.2741 - val_accuracy: 0.8591\n",
            "Epoch 19/50\n",
            "1853/1853 [==============================] - 49s 27ms/step - loss: 0.2502 - accuracy: 0.8667 - val_loss: 0.2845 - val_accuracy: 0.8510\n",
            "Epoch 20/50\n",
            "1853/1853 [==============================] - 49s 27ms/step - loss: 0.2507 - accuracy: 0.8652 - val_loss: 0.2743 - val_accuracy: 0.8605\n",
            "Epoch 21/50\n",
            "1853/1853 [==============================] - 49s 27ms/step - loss: 0.2497 - accuracy: 0.8686 - val_loss: 0.2729 - val_accuracy: 0.8575\n",
            "Epoch 22/50\n",
            "1853/1853 [==============================] - 50s 27ms/step - loss: 0.2453 - accuracy: 0.8713 - val_loss: 0.2859 - val_accuracy: 0.8591\n",
            "Epoch 23/50\n",
            "1853/1853 [==============================] - 50s 27ms/step - loss: 0.2456 - accuracy: 0.8709 - val_loss: 0.2793 - val_accuracy: 0.8561\n",
            "Epoch 24/50\n",
            "1853/1853 [==============================] - 50s 27ms/step - loss: 0.2437 - accuracy: 0.8772 - val_loss: 0.2785 - val_accuracy: 0.8556\n",
            "Epoch 25/50\n",
            "1853/1853 [==============================] - 50s 27ms/step - loss: 0.2382 - accuracy: 0.8754 - val_loss: 0.2773 - val_accuracy: 0.8570\n"
          ],
          "name": "stdout"
        }
      ]
    },
    {
      "cell_type": "code",
      "metadata": {
        "colab": {
          "base_uri": "https://localhost:8080/"
        },
        "id": "AvKwfweF4y4b",
        "outputId": "21791c5d-d5be-4a72-c2de-c51c573b2108"
      },
      "source": [
        "#metrics averageState LSTM\n",
        "\n",
        "pred_average_prob = model4.predict(X_test)\n",
        "pred_average_class = np.round(pred_average_prob)\n",
        "\n",
        "print(np.unique(pred_average_class, return_counts=True))\n",
        "print(np.unique(Y_test, return_counts=True))"
      ],
      "execution_count": 121,
      "outputs": [
        {
          "output_type": "stream",
          "text": [
            "(array([0., 1.], dtype=float32), array([3064,  641]))\n",
            "(array([0, 1]), array([3008,  697]))\n"
          ],
          "name": "stdout"
        }
      ]
    },
    {
      "cell_type": "code",
      "metadata": {
        "colab": {
          "base_uri": "https://localhost:8080/"
        },
        "id": "8hLwQmsP40cb",
        "outputId": "0e926120-1cbc-4c39-c319-ec462b810250"
      },
      "source": [
        "from sklearn.metrics import classification_report\n",
        "\n",
        "print(classification_report(Y_test, pred_average_class, digits=4))"
      ],
      "execution_count": 122,
      "outputs": [
        {
          "output_type": "stream",
          "text": [
            "              precision    recall  f1-score   support\n",
            "\n",
            "           0     0.9099    0.9269    0.9183      3008\n",
            "           1     0.6568    0.6040    0.6293       697\n",
            "\n",
            "    accuracy                         0.8661      3705\n",
            "   macro avg     0.7834    0.7654    0.7738      3705\n",
            "weighted avg     0.8623    0.8661    0.8639      3705\n",
            "\n"
          ],
          "name": "stdout"
        }
      ]
    },
    {
      "cell_type": "code",
      "metadata": {
        "colab": {
          "base_uri": "https://localhost:8080/"
        },
        "id": "1Dkip_0CATll",
        "outputId": "861903e2-d583-41f6-ea5c-f99f52c23efe"
      },
      "source": [
        "  # AUC averageLSTM\n",
        "from sklearn.metrics import roc_auc_score\n",
        "from sklearn.metrics import roc_curve\n",
        "\n",
        "auc_average = roc_auc_score(Y_test, pred_average_prob)\n",
        "print(auc_average)"
      ],
      "execution_count": 113,
      "outputs": [
        {
          "output_type": "stream",
          "text": [
            "0.9245810788638237\n"
          ],
          "name": "stdout"
        }
      ]
    },
    {
      "cell_type": "code",
      "metadata": {
        "colab": {
          "base_uri": "https://localhost:8080/"
        },
        "id": "17EZgebLYWvQ",
        "outputId": "5010160d-716c-4657-9a51-5870b2036ca0"
      },
      "source": [
        "from sklearn.metrics import confusion_matrix\n",
        "\n",
        "tn, fp, fn, tp = confusion_matrix(Y_test, pred_average_class).ravel()\n",
        "print(tn, fp, fn, tp)\n",
        "confusion_matrix(Y_test, pred_average_class)"
      ],
      "execution_count": 114,
      "outputs": [
        {
          "output_type": "stream",
          "text": [
            "2788 220 276 421\n"
          ],
          "name": "stdout"
        },
        {
          "output_type": "execute_result",
          "data": {
            "text/plain": [
              "array([[2788,  220],\n",
              "       [ 276,  421]])"
            ]
          },
          "metadata": {
            "tags": []
          },
          "execution_count": 114
        }
      ]
    },
    {
      "cell_type": "code",
      "metadata": {
        "colab": {
          "base_uri": "https://localhost:8080/",
          "height": 291
        },
        "id": "PAvCq8ddArTc",
        "outputId": "a3c64fea-925b-42c0-ac8a-0b8591d5d329"
      },
      "source": [
        "import matplotlib.pyplot as plt\n",
        "loss = plt.style.use('seaborn-whitegrid')\n",
        "loss = plt.plot(fourth_model.history['loss'], color = \"#31475C\")\n",
        "loss = plt.plot(fourth_model.history['val_loss'], color = \"#9DABB5\")\n",
        "loss = plt.title('Validation loss LSTM_averageState')\n",
        "loss = plt.ylabel('Loss')\n",
        "loss = plt.xlabel('Epochs')\n",
        "loss = plt.legend(['Train', 'Validation'], loc = 'upper right', fontsize = 12)\n",
        "loss = plt.savefig('LSTM_loss_avg.png')\n",
        "loss = plt.show()"
      ],
      "execution_count": 115,
      "outputs": [
        {
          "output_type": "display_data",
          "data": {
            "image/png": "[encoded data removed]",
            "text/plain": [
              "<Figure size 432x288 with 1 Axes>"
            ]
          },
          "metadata": {
            "tags": []
          }
        }
      ]
    },
    {
      "cell_type": "code",
      "metadata": {
        "colab": {
          "base_uri": "https://localhost:8080/"
        },
        "id": "UzsRypFgYk52",
        "outputId": "a18b5d64-b68f-426e-9775-274942035bba"
      },
      "source": [
        "score, acc = model4.evaluate(X_test, Y_test)\n",
        "\n",
        "print('Loss function:', score)\n",
        "print('Test accuracy:', acc)"
      ],
      "execution_count": 116,
      "outputs": [
        {
          "output_type": "stream",
          "text": [
            "116/116 [==============================] - 1s 12ms/step - loss: 0.2623 - accuracy: 0.8661\n",
            "Loss function: 0.26225629448890686\n",
            "Test accuracy: 0.8661268353462219\n"
          ],
          "name": "stdout"
        }
      ]
    }
  ]
}